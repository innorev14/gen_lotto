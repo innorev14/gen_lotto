{
 "cells": [
  {
   "cell_type": "code",
   "execution_count": null,
   "metadata": {},
   "outputs": [],
   "source": [
    "https://m.dhlottery.co.kr/gameResult.do?method=byWin&drwNo=875"
   ]
  },
  {
   "cell_type": "code",
   "execution_count": 2,
   "metadata": {},
   "outputs": [],
   "source": [
    "import requests"
   ]
  },
  {
   "cell_type": "code",
   "execution_count": 3,
   "metadata": {},
   "outputs": [],
   "source": [
    "from bs4 import BeautifulSoup"
   ]
  },
  {
   "cell_type": "code",
   "execution_count": null,
   "metadata": {},
   "outputs": [],
   "source": [
    "url = \"https://m.dhlottery.co.kr/gameResult.do\""
   ]
  },
  {
   "cell_type": "code",
   "execution_count": null,
   "metadata": {},
   "outputs": [],
   "source": [
    "params = {'method': 'byWin', 'drwNo': '875'}"
   ]
  },
  {
   "cell_type": "code",
   "execution_count": null,
   "metadata": {},
   "outputs": [],
   "source": [
    "response = requests.get(url, params=params)"
   ]
  },
  {
   "cell_type": "code",
   "execution_count": null,
   "metadata": {},
   "outputs": [],
   "source": [
    "html = response.text"
   ]
  },
  {
   "cell_type": "code",
   "execution_count": null,
   "metadata": {},
   "outputs": [],
   "source": [
    "soup = BeautifulSoup(html, 'html.parser')"
   ]
  },
  {
   "cell_type": "code",
   "execution_count": null,
   "metadata": {},
   "outputs": [],
   "source": [
    "print(soup)"
   ]
  },
  {
   "cell_type": "code",
   "execution_count": 4,
   "metadata": {},
   "outputs": [],
   "source": [
    "def trim(s):\n",
    "    return ' '.join(s.split())"
   ]
  },
  {
   "cell_type": "code",
   "execution_count": null,
   "metadata": {},
   "outputs": [],
   "source": [
    "for winnum in soup.select('.bx_lotto_winnum'):\n",
    "    num1 = int(trim((winnum.text[1:3])).replace(' ', ''))\n",
    "    num2 = int(trim((winnum.text[4:6])).replace(' ', ''))\n",
    "    num3 = int(trim((winnum.text[7:9])).replace(' ', ''))\n",
    "    num4 = int(trim((winnum.text[10:12])).replace(' ', ''))\n",
    "    num5 = int(trim((winnum.text[13:15])).replace(' ', ''))\n",
    "    num6 = int(trim((winnum.text[16:18])).replace(' ', ''))\n",
    "    b_num = int(trim((winnum.text[21:23])).replace(' ', ''))\n",
    "    print(num1, num2, num3, num4, num5, num6, \"+\", b_num)"
   ]
  },
  {
   "cell_type": "code",
   "execution_count": null,
   "metadata": {},
   "outputs": [],
   "source": [
    "for n in soup.select('.numberSelect'):\n",
    "    serise = int(n.text[2:5])"
   ]
  },
  {
   "cell_type": "code",
   "execution_count": null,
   "metadata": {},
   "outputs": [],
   "source": [
    "print(serise,\"회\", num1, num2, num3, num4, num5, num6, \"+\", b_num)"
   ]
  },
  {
   "cell_type": "code",
   "execution_count": null,
   "metadata": {},
   "outputs": [],
   "source": [
    "def winnum(serise):\n",
    "    for i in range(serise):\n",
    "        url = \"https://m.dhlottery.co.kr/gameResult.do\"\n",
    "        params = {'method': 'byWin', 'drwNo': i}\n",
    "        response = requests.get(url, params=params)\n",
    "        html = response.text\n",
    "        soup = BeautifulSoup(html, 'html.parser')\n",
    "\n",
    "\n",
    "        for winnum in soup.select('.bx_lotto_winnum'):\n",
    "            num1 = int(trim((winnum.text[1:3])).replace(' ', ''))\n",
    "            num2 = int(trim((winnum.text[4:6])).replace(' ', ''))\n",
    "            num3 = int(trim((winnum.text[7:9])).replace(' ', ''))\n",
    "            num4 = int(trim((winnum.text[10:12])).replace(' ', ''))\n",
    "            num5 = int(trim((winnum.text[13:15])).replace(' ', ''))\n",
    "            num6 = int(trim((winnum.text[16:18])).replace(' ', ''))\n",
    "            b_num = int(trim((winnum.text[20:])).replace(' ', ''))\n",
    "            print(num1, num2, num3, num4, num5, num6, \"+\", b_num)"
   ]
  },
  {
   "cell_type": "code",
   "execution_count": null,
   "metadata": {},
   "outputs": [],
   "source": [
    "winnum(serise)"
   ]
  },
  {
   "cell_type": "code",
   "execution_count": 9,
   "metadata": {},
   "outputs": [
    {
     "name": "stdout",
     "output_type": "stream",
     "text": [
      "1회차 접속\n",
      "1\n",
      "[10, 23, 29, 33, 37, 40, 16]\n",
      "0명\n",
      "0 원\n",
      "자동 0개, 수동 0개, 반자동 0개\n",
      " \n",
      "2회차 접속\n",
      "2\n",
      "[9, 13, 21, 25, 32, 42, 2]\n",
      "1명\n",
      "2,002,006,800 원\n",
      "자동 0개, 수동 0개, 반자동 0개\n",
      " \n",
      "3회차 접속\n",
      "3\n",
      "[11, 16, 19, 21, 27, 31, 30]\n",
      "1명\n",
      "2,000,000,000 원\n",
      "자동 0개, 수동 0개, 반자동 0개\n",
      " \n",
      "4회차 접속\n",
      "4\n",
      "[14, 27, 30, 31, 40, 42, 2]\n",
      "0명\n",
      "0 원\n",
      "자동 0개, 수동 0개, 반자동 0개\n",
      " \n"
     ]
    }
   ],
   "source": [
    "list=[]\n",
    "\n",
    "for i in range(1,5):\n",
    "    url = \"https://m.dhlottery.co.kr/gameResult.do\"\n",
    "    params = {'method': 'byWin', 'drwNo': i}\n",
    "    response = requests.get(url, params=params)\n",
    "    html = response.text\n",
    "    print(f\"{i}회차 접속\")\n",
    "    soup = BeautifulSoup(html, 'html.parser')\n",
    "    \n",
    "    list2=[]\n",
    "    for winnum in soup.select('.bx_lotto_winnum .ball'):\n",
    "        aa = int(winnum.text)\n",
    "        list2.append(aa)\n",
    "#     list.append(list2)\n",
    "\n",
    "\n",
    "    print(i)\n",
    "    print(list2)\n",
    "    print(soup.findAll(\"td\")[0].text.replace(\"개\", \"명\"))\n",
    "    print(soup.findAll(\"td\")[3].text)\n",
    "    print(soup.findAll(\"td\")[4].text)\n",
    "    print(\" \")\n"
   ]
  },
  {
   "cell_type": "code",
   "execution_count": 36,
   "metadata": {},
   "outputs": [
    {
     "data": {
      "text/plain": [
       "[11, 16, 19, 21, 27, 31, 30]"
      ]
     },
     "execution_count": 36,
     "metadata": {},
     "output_type": "execute_result"
    }
   ],
   "source": [
    "list[2]"
   ]
  },
  {
   "cell_type": "code",
   "execution_count": 17,
   "metadata": {},
   "outputs": [
    {
     "name": "stdout",
     "output_type": "stream",
     "text": [
      "1회차 접속\n",
      "[10, 23, 29, 33, 37, 40, 16]\n",
      "10\n",
      "23\n",
      "0명\n",
      "0 원\n",
      "2회차 접속\n",
      "[9, 13, 21, 25, 32, 42, 2]\n",
      "9\n",
      "13\n",
      "1명\n",
      "2,002,006,800 원\n",
      "3회차 접속\n",
      "[11, 16, 19, 21, 27, 31, 30]\n",
      "11\n",
      "16\n",
      "1명\n",
      "2,000,000,000 원\n",
      "4회차 접속\n",
      "[14, 27, 30, 31, 40, 42, 2]\n",
      "14\n",
      "27\n",
      "0명\n",
      "0 원\n",
      "5회차 접속\n",
      "[16, 24, 29, 40, 41, 42, 3]\n",
      "16\n",
      "24\n",
      "0명\n",
      "0 원\n"
     ]
    }
   ],
   "source": [
    "roun=5\n",
    "for r in range(1, roun+1):\n",
    "    url = 'https://m.dhlottery.co.kr/gameResult.do'\n",
    "    params = {'method': 'byWin', 'drwNo': r}\n",
    "    response = requests.get(url, params=params)\n",
    "    html = response.text\n",
    "    print(f\"{r}회차 접속\")\n",
    "    soup = BeautifulSoup(html, 'html.parser')\n",
    "\n",
    "    list=[]\n",
    "    for i_int in soup.select('.bx_lotto_winnum .ball'):\n",
    "        num = int(i_int.text)\n",
    "        list.append(num)\n",
    "        \n",
    "    winneramount = soup.findAll(\"td\")[0].text.replace(\"개\", \"명\")\n",
    "    perprize = soup.findAll(\"td\")[3].text\n",
    "    winmethod = soup.findAll(\"td\")[4].text        \n",
    "    print(list)\n",
    "    print(list[0])\n",
    "    print(list[1])\n",
    "    print(winneramount)\n",
    "    print(perprize)"
   ]
  },
  {
   "cell_type": "code",
   "execution_count": null,
   "metadata": {},
   "outputs": [],
   "source": []
  }
 ],
 "metadata": {
  "kernelspec": {
   "display_name": "Python 3",
   "language": "python",
   "name": "python3"
  },
  "language_info": {
   "codemirror_mode": {
    "name": "ipython",
    "version": 3
   },
   "file_extension": ".py",
   "mimetype": "text/x-python",
   "name": "python",
   "nbconvert_exporter": "python",
   "pygments_lexer": "ipython3",
   "version": "3.7.3"
  }
 },
 "nbformat": 4,
 "nbformat_minor": 2
}
